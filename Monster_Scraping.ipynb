{
  "nbformat": 4,
  "nbformat_minor": 0,
  "metadata": {
    "colab": {
      "name": "Monster Scraping.ipynb",
      "provenance": [],
      "mount_file_id": "19M83Ky-0Mn2b8Dx_T_xJ5dq_JRS1KkTR",
      "authorship_tag": "ABX9TyMKSMCcWCI/5Vh3W5/pUX8U",
      "include_colab_link": true
    },
    "kernelspec": {
      "name": "python3",
      "display_name": "Python 3"
    }
  },
  "cells": [
    {
      "cell_type": "markdown",
      "metadata": {
        "id": "view-in-github",
        "colab_type": "text"
      },
      "source": [
        "<a href=\"https://colab.research.google.com/github/jinia-konar/Web-Scraping/blob/master/Monster_Scraping.ipynb\" target=\"_parent\"><img src=\"https://colab.research.google.com/assets/colab-badge.svg\" alt=\"Open In Colab\"/></a>"
      ]
    },
    {
      "cell_type": "code",
      "metadata": {
        "id": "epaAzFJMM7NZ",
        "colab_type": "code",
        "colab": {}
      },
      "source": [
        "import requests         #Import all necessary library\n",
        "from bs4 import BeautifulSoup"
      ],
      "execution_count": 0,
      "outputs": []
    },
    {
      "cell_type": "code",
      "metadata": {
        "id": "s179ZElXN6og",
        "colab_type": "code",
        "colab": {}
      },
      "source": [
        "URL = 'https://www.monster.com/jobs/search/?q=Software_Developer&where=India';\n",
        "page = requests.get(URL);       #Request the url to send htlm code"
      ],
      "execution_count": 0,
      "outputs": []
    },
    {
      "cell_type": "code",
      "metadata": {
        "id": "3AMnVRV0OPGv",
        "colab_type": "code",
        "colab": {}
      },
      "source": [
        "#print(page.text)"
      ],
      "execution_count": 0,
      "outputs": []
    },
    {
      "cell_type": "code",
      "metadata": {
        "id": "aHx-IGytOmFO",
        "colab_type": "code",
        "colab": {}
      },
      "source": [
        "soup = BeautifulSoup(page.content, \"html.parser\");        #parse the html content\n",
        "results = soup.find(id=\"ResultsContainer\")          #find data from the parsed html content\n",
        "#print(results.prettify)"
      ],
      "execution_count": 0,
      "outputs": []
    },
    {
      "cell_type": "code",
      "metadata": {
        "id": "Ax0Y85EjwDt8",
        "colab_type": "code",
        "colab": {}
      },
      "source": [
        "job_lists = results.find_all('section', class_ = \"card-content\")      \n",
        "#for job in job_lists:\n",
        "#  print(job, end = '\\n'*2);"
      ],
      "execution_count": 0,
      "outputs": []
    },
    {
      "cell_type": "code",
      "metadata": {
        "id": "JH76aJCGxye1",
        "colab_type": "code",
        "colab": {}
      },
      "source": [
        "for job in job_lists:\n",
        "  job_title = job.find('h2', class_ = 'title');\n",
        "  job_company = job.find('div', class_ = 'company');\n",
        "  job_location = job.find('div', class_ = 'location');\n",
        "  #print(\"Title - \",job_title)\n",
        "  #print(\"Company Name - \",job_company)\n",
        "  #print(\"Company Location - \",job_location,end='\\n'*2);"
      ],
      "execution_count": 0,
      "outputs": []
    },
    {
      "cell_type": "code",
      "metadata": {
        "id": "5HguZCi-0Xj-",
        "colab_type": "code",
        "colab": {
          "base_uri": "https://localhost:8080/",
          "height": 1000
        },
        "outputId": "cd416b41-e4f1-49b6-c1b7-6ba0cef7d538"
      },
      "source": [
        "for job in job_lists:\n",
        "  job_title = job.find('h2', class_ = 'title');\n",
        "  job_company = job.find('div', class_ = 'company');\n",
        "  job_location = job.find('div', class_ = 'location');\n",
        "  if None in (job_title, job_company, job_location):\n",
        "    continue;\n",
        "  \n",
        "  link = job_title.find('a')['href'];         #get the link to job portal\n",
        "  print(\"Title - \",job_title.text.strip())        #convert html info to text and remove extra space \n",
        "  print(\"Company Name - \",job_company.text.strip())\n",
        "  print(\"Company Location - \",job_location.text.strip());\n",
        "  print(f\"Apply here : {link}\",end='\\n'*2);"
      ],
      "execution_count": 40,
      "outputs": [
        {
          "output_type": "stream",
          "text": [
            "Title -  Senior Software Developer – Test\n",
            "Company Name -  Aurigo\n",
            "Company Location -  Bangalore, KT\n",
            "Apply here : https://job-openings.monster.com/senior-software-developer-–-test-bangalore-kt-us-aurigo/a99f2454-2bab-4e2d-b30e-10e7d9ce0766\n",
            "\n",
            "Title -  Software Engineer - Bengaluru, Karnataka\n",
            "Company Name -  PowerSchool\n",
            "Company Location -  Bengaluru, KT\n",
            "Apply here : https://job-openings.monster.com/software-engineer-bengaluru-karnataka-bengaluru-kt-us-powerschool/2d6295f0-1f40-42b4-9dff-5eff2ffeb007\n",
            "\n",
            "Title -  Software Engineer II - PHP   4 Open Roles - Bengaluru, Karnataka\n",
            "Company Name -  EagleView Technologies\n",
            "Company Location -  Bengaluru, KT\n",
            "Apply here : https://job-openings.monster.com/software-engineer-ii-php-4-open-roles-bengaluru-karnataka-bengaluru-kt-us-eagleview-technologies/8e3bfc17-76fa-45d4-8bc0-52aa1b846161\n",
            "\n",
            "Title -  Software Engineer (Client Support )\n",
            "Company Name -  International Decision Systems\n",
            "Company Location -  Bengaluru, KT\n",
            "Apply here : https://job-openings.monster.com/software-engineer-client-support-bengaluru-kt-us-international-decision-systems/6971e5fc-a816-48bb-b4c1-f3ebe9221359\n",
            "\n",
            "Title -  Software Engineer Outlook Plugin\n",
            "Company Name -  Jobskey Consultancy\n",
            "Company Location -  Banglore, KT\n",
            "Apply here : https://job-openings.monster.com/software-engineer-outlook-plugin-banglore-kt-us-jobskey-consultancy/15969513-024d-446d-a038-5034f714290c\n",
            "\n",
            "Title -  HMI Developer\n",
            "Company Name -  Cyient\n",
            "Company Location -  Hyderabad, AP\n",
            "Apply here : https://job-openings.monster.com/hmi-developer-hyderabad-ap-us-cyient/8563d339-2f80-411a-9a17-a2260ef4b816\n",
            "\n",
            "Title -  Senior Software Engineer - Bengaluru, Karnataka\n",
            "Company Name -  STATS\n",
            "Company Location -  Bengaluru, KT\n",
            "Apply here : https://job-openings.monster.com/senior-software-engineer-bengaluru-karnataka-bengaluru-kt-us-stats/b13d3539-70c5-43a1-a3d8-6d38d668712c\n",
            "\n",
            "Title -  Senior Software Developer\n",
            "Company Name -  Aurigo\n",
            "Company Location -  Bangalore, KT\n",
            "Apply here : https://job-openings.monster.com/senior-software-developer-bangalore-kt-us-aurigo/96d77f46-d8fb-4fdb-814c-eceb3e6c0d75\n",
            "\n",
            "Title -  Senior Software Engineer - Bengaluru, Karnataka\n",
            "Company Name -  PowerSchool\n",
            "Company Location -  Bengaluru, KT\n",
            "Apply here : https://job-openings.monster.com/senior-software-engineer-bengaluru-karnataka-bengaluru-kt-us-powerschool/ce82b30a-c2b8-40bc-841f-60d49119a494\n",
            "\n",
            "Title -  Senior Software Engineer - Asp.net - Bengaluru, Karnataka\n",
            "Company Name -  EagleView Technologies\n",
            "Company Location -  Bengaluru, KT\n",
            "Apply here : https://job-openings.monster.com/senior-software-engineer-asp-net-bengaluru-karnataka-bengaluru-kt-us-eagleview-technologies/e0465566-a1d2-477c-aefd-6a21966c2f36\n",
            "\n",
            "Title -  Software Engineer - Bengaluru, Karnataka\n",
            "Company Name -  STATS\n",
            "Company Location -  Bengaluru, KT\n",
            "Apply here : https://job-openings.monster.com/software-engineer-bengaluru-karnataka-bengaluru-kt-us-stats/17069ec4-8360-4725-ba15-f07b8dff7954\n",
            "\n",
            "Title -  Software Engineer - Bengaluru, Karnataka\n",
            "Company Name -  PowerSchool\n",
            "Company Location -  Bengaluru, KT\n",
            "Apply here : https://job-openings.monster.com/software-engineer-bengaluru-karnataka-bengaluru-kt-us-powerschool/70e11f0a-5a7e-4bc7-91bf-31801e350c84\n",
            "\n",
            "Title -  Web Developer & IT Applications SME\n",
            "Company Name -  Aurigo\n",
            "Company Location -  Bangalore, KT\n",
            "Apply here : https://job-openings.monster.com/web-developer-it-applications-sme-bangalore-kt-us-aurigo/a0921c3a-8714-4fe4-9df1-dc26c63f33ad\n",
            "\n",
            "Title -  Senior Software Engineer (Backend) - Bengaluru, Karnataka\n",
            "Company Name -  EagleView Technologies\n",
            "Company Location -  Bengaluru, KT\n",
            "Apply here : https://job-openings.monster.com/senior-software-engineer-backend-bengaluru-karnataka-bengaluru-kt-us-eagleview-technologies/54ac2ae8-54fc-42bb-97c3-bd34dc95cf06\n",
            "\n",
            "Title -  Software Engineer - Bengaluru, Karnataka\n",
            "Company Name -  PowerSchool\n",
            "Company Location -  Bengaluru, KT\n",
            "Apply here : https://job-openings.monster.com/software-engineer-bengaluru-karnataka-bengaluru-kt-us-powerschool/59237cde-a6b5-49f3-9d7c-25c13f42928d\n",
            "\n",
            "Title -  Lead Software Engineer - Mobile - Bengaluru, Karnataka\n",
            "Company Name -  PowerSchool\n",
            "Company Location -  Bengaluru, KT\n",
            "Apply here : https://job-openings.monster.com/lead-software-engineer-mobile-bengaluru-karnataka-bengaluru-kt-us-powerschool/052ff95e-d77d-47e5-8f29-8ae09b06834e\n",
            "\n",
            "Title -  Associate Software Engineer - Bengaluru, Karnataka\n",
            "Company Name -  PowerSchool\n",
            "Company Location -  Bengaluru, KT\n",
            "Apply here : https://job-openings.monster.com/associate-software-engineer-bengaluru-karnataka-bengaluru-kt-us-powerschool/871962d2-3c2a-4ed7-9ea8-03a99dbcc143\n",
            "\n",
            "Title -  Applications & Infrastructure Engineer - Bengaluru, Karnataka\n",
            "Company Name -  PowerSchool\n",
            "Company Location -  Bengaluru, KT\n",
            "Apply here : https://job-openings.monster.com/applications-infrastructure-engineer-bengaluru-karnataka-bengaluru-kt-us-powerschool/81bf92e4-339c-4df7-9775-8b0f4c84445f\n",
            "\n",
            "Title -  Software Engineer - Bengaluru, Karnataka\n",
            "Company Name -  PowerSchool\n",
            "Company Location -  Bengaluru, KT\n",
            "Apply here : https://job-openings.monster.com/software-engineer-bengaluru-karnataka-bengaluru-kt-us-powerschool/6f3e930a-9fda-4835-a723-d2be85eed70b\n",
            "\n",
            "Title -  Senior Software Engineer - Bengaluru, Karnataka\n",
            "Company Name -  PowerSchool\n",
            "Company Location -  Bengaluru, KT\n",
            "Apply here : https://job-openings.monster.com/senior-software-engineer-bengaluru-karnataka-bengaluru-kt-us-powerschool/5e26be12-86ab-43e5-b42e-637eb674fad4\n",
            "\n",
            "Title -  Senior Software Engineer - Bengaluru, Karnataka\n",
            "Company Name -  PowerSchool\n",
            "Company Location -  Bengaluru, KT\n",
            "Apply here : https://job-openings.monster.com/senior-software-engineer-bengaluru-karnataka-bengaluru-kt-us-powerschool/4657d32c-2006-47a5-ab6b-cd6f5a52801e\n",
            "\n",
            "Title -  Senior Software Engineer - Bengaluru, Karnataka\n",
            "Company Name -  PowerSchool\n",
            "Company Location -  Bengaluru, KT\n",
            "Apply here : https://job-openings.monster.com/senior-software-engineer-bengaluru-karnataka-bengaluru-kt-us-powerschool/39c6f39e-a64a-4309-b2af-5ef324c88a8b\n",
            "\n",
            "Title -  Senior Software Engineer - Bengaluru, Karnataka\n",
            "Company Name -  PowerSchool\n",
            "Company Location -  Bengaluru, KT\n",
            "Apply here : https://job-openings.monster.com/senior-software-engineer-bengaluru-karnataka-bengaluru-kt-us-powerschool/39375058-801b-474b-9415-5bea503d8d68\n",
            "\n",
            "Title -  Senior Software Engineer - Bengaluru, Karnataka\n",
            "Company Name -  PowerSchool\n",
            "Company Location -  Bengaluru, KT\n",
            "Apply here : https://job-openings.monster.com/senior-software-engineer-bengaluru-karnataka-bengaluru-kt-us-powerschool/5f51a0c0-5f47-478c-b73d-11e04422de0c\n",
            "\n",
            "Title -  Software Architect\n",
            "Company Name -  International Decision Systems\n",
            "Company Location -  Bengaluru, KT\n",
            "Apply here : https://job-openings.monster.com/software-architect-bengaluru-kt-us-international-decision-systems/61651f72-4e22-4efb-88b5-2db9a9d4a405\n",
            "\n"
          ],
          "name": "stdout"
        }
      ]
    },
    {
      "cell_type": "code",
      "metadata": {
        "id": "zqjNzSbR3jB0",
        "colab_type": "code",
        "colab": {}
      },
      "source": [
        "backend_job = results.find_all('h2', string = lambda text : 'backend' in text.lower())      #get only the jobs with particular string in the title\n",
        "#for job in backend_job:             #function is used so that uppercase and lowercase both can be detected\n",
        "#  print(backend_job,end='\\n'*2)"
      ],
      "execution_count": 0,
      "outputs": []
    },
    {
      "cell_type": "code",
      "metadata": {
        "id": "gwjw6MHc35pL",
        "colab_type": "code",
        "colab": {
          "base_uri": "https://localhost:8080/",
          "height": 88
        },
        "outputId": "2e334302-6060-4e7e-a41a-654a47c692ff"
      },
      "source": [
        "for job in backend_job:\n",
        "  link = job.find('a')['href'];\n",
        "  print(job.text.strip());\n",
        "  print(f\"Apply here : {link}\",end='\\n'*2);"
      ],
      "execution_count": 42,
      "outputs": [
        {
          "output_type": "stream",
          "text": [
            "Senior Software Engineer (Backend) - Bengaluru, Karnataka\n",
            "Apply here : https://job-openings.monster.com/senior-software-engineer-backend-bengaluru-karnataka-bengaluru-kt-us-eagleview-technologies/54ac2ae8-54fc-42bb-97c3-bd34dc95cf06\n",
            "\n"
          ],
          "name": "stdout"
        }
      ]
    },
    {
      "cell_type": "code",
      "metadata": {
        "id": "fFkwaFEM5Ifb",
        "colab_type": "code",
        "colab": {}
      },
      "source": [
        ""
      ],
      "execution_count": 0,
      "outputs": []
    }
  ]
}